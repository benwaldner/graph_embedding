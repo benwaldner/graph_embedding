{
 "cells": [
  {
   "cell_type": "markdown",
   "metadata": {},
   "source": [
    "# Deepwalk with time dynamic penalty\n",
    "\n",
    "To incentivize proximity between embeddings of a sequence of graphs, one can add a penalty term to the standard skipgram loss used in DeepWalk.\n",
    "\n",
    "Let $(G_t)_{t=1}^T$ a sequence of graphs, $\\mathcal{D_t}$ a set of word-context sampled from the DeepWalk random walk on $G^t$ and $\\mathcal{D'_t}$ a set of pairs (central word, fake context), where the fake context is sampled from the nodes of $G_t$. Let $\\sigma$ denote the sigmoid function.\n",
    "\n",
    "$$\n",
    "\\begin{align}\n",
    "& \\mathcal{L}^t_{skipgram} = \\sum_{(w,c)\\in \\mathcal{D_t}} \\log \\sigma(u^t_w\\cdot u^t_c) +\\sum_{(w,c')\\in \\mathcal{D'_t}} \\log \\sigma(-u^t_w\\cdot u^t_{c'}) \\\\\n",
    "& \\mathcal{L^t_{reg}} = \\sum_{(w,c)\\in \\mathcal{D_t}} \\lVert u^{t}_w - u^{t-1}_w \\rVert_p + \\lVert u^{t}_c - u^{t-1}_c \\rVert_p\n",
    "\\end{align}\n",
    "$$\n",
    "\n",
    "The DeepWalk model is then trained sequentially on $G_1, \\dots, G_T$ by minimizing $\\mathcal{L}^t_{skipgram} + \\lambda \\mathcal{L}^t_{reg}$.\n",
    "\n",
    "In what follows, we train the sequential DeepWalk without ($\\lambda=0$) and with ($\\lambda>0$) time dynamic penalty on the bridge removal example and compare the distance between their respective embeddings using the sum of $\\mathbb{L}^2$ distance and the 2-Wasserstein metric.\n",
    "\n",
    "Both distances can be used to metricize the topology of graph embeddings. The $\\mathbb{L}^2$ corresponds to the $\\mathbb{L}^2$ convergence of empirical measures reprensenting embedding point clouds; intuitively a small $\\mathbb{L}^2$ distance corresponds to each point $z^t_i$ being close to $z^{t-1}_{i}$; the Wasserstein distance corresponds to the weak convergence of measures, and characterizes the proximity of the cloud $(z^t_i)_{i=1}^N$ to $(z^{t-1}_i)_{i=1}^N$. Note that the $\\mathbb{L}^2$ is sensitive to a reordering of the points, whereas the Wasserstein distance corresponds to the minimum over all possible such reordering.\n",
    "\n",
    "$\\mathbb{L}^2$ penalty is more stringent, and from a practical point of view it is differentiable with explicit derivatives w.r.t the weights of the DeepWalk networks, which allows for an auto-differentiation framework such as Torch; by comparison, Wasserstein distance cannot be easily optimized."
   ]
  },
  {
   "cell_type": "code",
   "execution_count": 1,
   "metadata": {},
   "outputs": [],
   "source": [
    "import numpy as np\n",
    "import matplotlib as mpl\n",
    "import matplotlib.pyplot as plt\n",
    "import networkx as nx\n",
    "from sklearn.decomposition import PCA\n",
    "\n",
    "from graph_embedding_continuity import *"
   ]
  },
  {
   "cell_type": "code",
   "execution_count": 2,
   "metadata": {},
   "outputs": [],
   "source": [
    "N = 30\n",
    "# Barabasi-Albert parameter\n",
    "m = 3\n",
    "\n",
    "N_TRAIN = 50\n",
    "EMBEDDING_SIZE = 3\n",
    "WALK_LENGTH = 10\n",
    "WINDOW_SIZE = 2\n",
    "N_NEG = 2\n",
    "HIDDEN_SIZE = 16\n",
    "\n",
    "TIME_REG_STRENGTH = 0.2\n",
    "CLOUD_METRIC_P = 2\n",
    "\n",
    "USE_CUDA = False\n",
    "USE_PCA_TO_PLOT = False"
   ]
  },
  {
   "cell_type": "code",
   "execution_count": 3,
   "metadata": {},
   "outputs": [],
   "source": [
    "# generate a random graph that bridges to clusters\n",
    "G1 = nx.barabasi_albert_graph(N, 2)\n",
    "G2 = nx.barabasi_albert_graph(N, 2)\n",
    "\n",
    "# relabel nodes of G2\n",
    "d = {}\n",
    "for v in G1.nodes:\n",
    "    d[v] = N+v\n",
    "G2 = nx.relabel_nodes(G2, d)\n",
    "\n",
    "G_t0 = nx.union(G1, G2)\n",
    "\n",
    "G_t0.add_edge(N-1, N)\n",
    "# add some random weights on each edge\n",
    "for _, _, d in G_t0.edges(data=True):\n",
    "    d['weight'] = np.random.rand()\n",
    "    \n",
    "# save layout\n",
    "pos = nx.spring_layout(G_t0)\n",
    "\n",
    "# create a new graph by removing the bridge edge\n",
    "G_t1 = deepcopy(G_t0)\n",
    "G_t1.remove_edge(N-1, N)"
   ]
  },
  {
   "cell_type": "markdown",
   "metadata": {},
   "source": [
    "### No time dynamic penalty"
   ]
  },
  {
   "cell_type": "code",
   "execution_count": 4,
   "metadata": {},
   "outputs": [
    {
     "name": "stderr",
     "output_type": "stream",
     "text": [
      "Epoch : 1/50: 100%|███████████████████████████████████| 60.0/60.0 [00:01<00:00, 40.5it/s, loss=51.3]\n",
      "Epoch : 10/50: 100%|██████████████████████████████████| 60.0/60.0 [00:01<00:00, 41.1it/s, loss=49.6]\n",
      "Epoch : 20/50: 100%|██████████████████████████████████| 60.0/60.0 [00:01<00:00, 41.4it/s, loss=36.8]\n",
      "Epoch : 30/50: 100%|██████████████████████████████████| 60.0/60.0 [00:01<00:00, 41.6it/s, loss=36.5]\n",
      "Epoch : 40/50: 100%|██████████████████████████████████| 60.0/60.0 [00:01<00:00, 41.3it/s, loss=35.2]\n",
      "Epoch : 50/50: 100%|██████████████████████████████████| 60.0/60.0 [00:01<00:00, 41.4it/s, loss=34.8]\n",
      "Epoch : 1/50: 100%|█████| 60.0/60.0 [00:01<00:00, 40.6it/s, skipgram loss=34.6, time dynamic loss=0]\n",
      "Epoch : 10/50: 100%|██████| 60.0/60.0 [00:01<00:00, 40.7it/s, skipgram loss=33, time dynamic loss=0]\n",
      "Epoch : 20/50: 100%|████| 60.0/60.0 [00:01<00:00, 40.0it/s, skipgram loss=30.8, time dynamic loss=0]\n",
      "Epoch : 30/50: 100%|████| 60.0/60.0 [00:01<00:00, 39.9it/s, skipgram loss=31.4, time dynamic loss=0]\n",
      "Epoch : 40/50: 100%|████| 60.0/60.0 [00:01<00:00, 40.1it/s, skipgram loss=30.3, time dynamic loss=0]\n",
      "Epoch : 50/50: 100%|██████| 60.0/60.0 [00:01<00:00, 40.3it/s, skipgram loss=31, time dynamic loss=0]\n"
     ]
    }
   ],
   "source": [
    "emb_words, emb_contexts = deepwalk_embedding_time_reg([G_t0, G_t1],\n",
    "                                                      k=EMBEDDING_SIZE,\n",
    "                                                      n_train=N_TRAIN,\n",
    "                                                      walk_length=WALK_LENGTH,\n",
    "                                                      window_size=WINDOW_SIZE,\n",
    "                                                      n_neg=N_NEG,\n",
    "                                                      hidden_size = HIDDEN_SIZE,\n",
    "                                                      use_cuda=USE_CUDA,\n",
    "                                                      time_reg_strength=0.0,\n",
    "                                                      cloud_metric_p=CLOUD_METRIC_P,\n",
    "                                                     )"
   ]
  },
  {
   "cell_type": "code",
   "execution_count": 5,
   "metadata": {
    "scrolled": false
   },
   "outputs": [
    {
     "data": {
      "image/png": "[encoded data removed]",
      "text/plain": [
       "<Figure size 792x288 with 2 Axes>"
      ]
     },
     "metadata": {
      "needs_background": "light"
     },
     "output_type": "display_data"
    }
   ],
   "source": [
    "# plot the graph\n",
    "fig, axes = plt.subplots(figsize=(11,4), nrows=1, ncols=2)\n",
    "\n",
    "cmap = plt.get_cmap('gist_rainbow')\n",
    "cNorm  = mpl.colors.Normalize(vmin=0, vmax=len(emb_words))\n",
    "scalarMap = mpl.cm.ScalarMappable(norm=cNorm, cmap=cmap)\n",
    "colors = scalarMap.to_rgba(range(len(emb_words)))\n",
    "    \n",
    "for t, (emb_word, emb_context, color) in enumerate(zip(emb_words, emb_contexts, colors)):\n",
    "    wass_word = wasserstein_metric(emb_words[1], emb_words[0])\n",
    "    wass_context = wasserstein_metric(emb_contexts[1], emb_contexts[0])\n",
    "\n",
    "    l2_word = torch.norm(emb_words[1]-emb_words[0], 2).item()\n",
    "    l2_context = torch.norm(emb_contexts[1]-emb_contexts[0], 2).item()\n",
    "    \n",
    "    if USE_PCA_TO_PLOT:\n",
    "        # extract 2 principal components to plot\n",
    "        pca = PCA(n_components=2)\n",
    "        emb_word = pca.fit_transform(emb_word.cpu())\n",
    "        emb_context = pca.fit_transform(emb_context.cpu())\n",
    "\n",
    "    ax = axes[0]\n",
    "    ax.scatter(emb_word[:, 0], emb_word[:, 1], label='$t_{}$'.format(t), color=color)\n",
    "    ax.set_title('Central word embedding\\n2-Wasserstein: {:.4f}\\n$L^2: {:.4f}$'.format(wass_word, l2_word))\n",
    "\n",
    "    ax.legend(loc='upper right')\n",
    "    ax.axis('off')\n",
    "\n",
    "    ax = axes[1]\n",
    "    ax.scatter(emb_context[:, 0], emb_context[:, 1], label='$t_{}$'.format(t), color=color)\n",
    "    ax.set_title('Context embedding\\n2-Wasserstein: {:.4f}\\n$L^2: {:.4f}$'.format(wass_context, l2_context))\n",
    "    ax.legend(loc='upper right')\n",
    "    ax.axis('off')\n",
    "\n",
    "plt.tight_layout()\n",
    "plt.show()"
   ]
  },
  {
   "cell_type": "markdown",
   "metadata": {},
   "source": [
    "###  With time dynamic penalty"
   ]
  },
  {
   "cell_type": "code",
   "execution_count": 6,
   "metadata": {},
   "outputs": [
    {
     "name": "stderr",
     "output_type": "stream",
     "text": [
      "Epoch : 1/50: 100%|███████████████████████████████████| 60.0/60.0 [00:01<00:00, 41.0it/s, loss=51.1]\n",
      "Epoch : 10/50: 100%|██████████████████████████████████| 60.0/60.0 [00:01<00:00, 40.2it/s, loss=50.3]\n",
      "Epoch : 20/50: 100%|██████████████████████████████████| 60.0/60.0 [00:01<00:00, 41.2it/s, loss=44.1]\n",
      "Epoch : 30/50: 100%|██████████████████████████████████| 60.0/60.0 [00:01<00:00, 40.8it/s, loss=43.8]\n",
      "Epoch : 40/50: 100%|██████████████████████████████████| 60.0/60.0 [00:01<00:00, 41.0it/s, loss=38.9]\n",
      "Epoch : 50/50: 100%|██████████████████████████████████| 60.0/60.0 [00:01<00:00, 39.9it/s, loss=31.1]\n",
      "Epoch : 1/50: 100%|█| 60.0/60.0 [00:01<00:00, 39.8it/s, skipgram loss=31.3, time dynamic loss=0.146]  \n",
      "Epoch : 10/50: 100%|█| 60.0/60.0 [00:01<00:00, 40.0it/s, skipgram loss=30.6, time dynamic loss=0.56] \n",
      "Epoch : 20/50: 100%|█| 60.0/60.0 [00:01<00:00, 39.5it/s, skipgram loss=31.4, time dynamic loss=0.647]\n",
      "Epoch : 30/50: 100%|██| 60.0/60.0 [00:01<00:00, 40.0it/s, skipgram loss=30, time dynamic loss=0.732] \n",
      "Epoch : 40/50: 100%|█| 60.0/60.0 [00:01<00:00, 39.9it/s, skipgram loss=30.5, time dynamic loss=0.766]\n",
      "Epoch : 50/50: 100%|█| 60.0/60.0 [00:01<00:00, 40.1it/s, skipgram loss=29.8, time dynamic loss=0.837]\n"
     ]
    }
   ],
   "source": [
    "emb_words, emb_contexts = deepwalk_embedding_time_reg([G_t0, G_t1],\n",
    "                                                      k=EMBEDDING_SIZE,\n",
    "                                                      n_train=N_TRAIN,\n",
    "                                                      walk_length=WALK_LENGTH,\n",
    "                                                      window_size=WINDOW_SIZE,\n",
    "                                                      n_neg=N_NEG,\n",
    "                                                      hidden_size = HIDDEN_SIZE,\n",
    "                                                      use_cuda=USE_CUDA,\n",
    "                                                      time_reg_strength=TIME_REG_STRENGTH,\n",
    "                                                      cloud_metric_p=CLOUD_METRIC_P,\n",
    "                                                     )"
   ]
  },
  {
   "cell_type": "code",
   "execution_count": 7,
   "metadata": {},
   "outputs": [
    {
     "data": {
      "image/png": "[encoded data removed]",
      "text/plain": [
       "<Figure size 792x288 with 2 Axes>"
      ]
     },
     "metadata": {
      "needs_background": "light"
     },
     "output_type": "display_data"
    }
   ],
   "source": [
    "# plot the graph\n",
    "fig, axes = plt.subplots(figsize=(11,4), nrows=1, ncols=2)\n",
    "\n",
    "cmap = plt.get_cmap('gist_rainbow')\n",
    "cNorm  = mpl.colors.Normalize(vmin=0, vmax=len(emb_words))\n",
    "scalarMap = mpl.cm.ScalarMappable(norm=cNorm, cmap=cmap)\n",
    "colors = scalarMap.to_rgba(range(len(emb_words)))\n",
    "    \n",
    "for t, (emb_word, emb_context, color) in enumerate(zip(emb_words, emb_contexts, colors)):\n",
    "    wass_word = wasserstein_metric(emb_words[1], emb_words[0])\n",
    "    wass_context = wasserstein_metric(emb_contexts[1], emb_contexts[0])\n",
    "\n",
    "    l2_word = torch.norm(emb_words[1]-emb_words[0], 2).item()\n",
    "    l2_context = torch.norm(emb_contexts[1]-emb_contexts[0], 2).item()\n",
    "    \n",
    "    if USE_PCA_TO_PLOT:\n",
    "        # extract 2 principal components to plot\n",
    "        pca = PCA(n_components=2)\n",
    "        emb_word = pca.fit_transform(emb_word.cpu())\n",
    "        emb_context = pca.fit_transform(emb_context.cpu())\n",
    "\n",
    "    ax = axes[0]\n",
    "    ax.scatter(emb_word[:, 0], emb_word[:, 1], label='$t_{}$'.format(t), color=color)\n",
    "    ax.set_title('Central word embedding\\n2-Wasserstein: {:.4f}\\n$L^2: {:.4f}$'.format(wass_word, l2_word))\n",
    "    ax.legend(loc='upper right')\n",
    "    ax.axis('off')\n",
    "\n",
    "    ax = axes[1]\n",
    "    ax.scatter(emb_context[:, 0], emb_context[:, 1], label='$t_{}$'.format(t), color=color)\n",
    "    ax.set_title('Context embedding\\n2-Wasserstein: {:.4f}\\n$L^2: {:.4f}$'.format(wass_context, l2_context))\n",
    "    ax.legend(loc='upper right')\n",
    "    ax.axis('off')\n",
    "\n",
    "plt.tight_layout()\n",
    "plt.show()"
   ]
  },
  {
   "cell_type": "code",
   "execution_count": null,
   "metadata": {},
   "outputs": [],
   "source": []
  }
 ],
 "metadata": {
  "kernelspec": {
   "display_name": "Python 3",
   "language": "python",
   "name": "python3"
  },
  "language_info": {
   "codemirror_mode": {
    "name": "ipython",
    "version": 3
   },
   "file_extension": ".py",
   "mimetype": "text/x-python",
   "name": "python",
   "nbconvert_exporter": "python",
   "pygments_lexer": "ipython3",
   "version": "3.7.4"
  }
 },
 "nbformat": 4,
 "nbformat_minor": 2
}
